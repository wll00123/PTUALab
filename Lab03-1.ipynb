{
 "cells": [
  {
   "cell_type": "code",
   "execution_count": 13,
   "id": "855e67a3-d849-43e7-8675-792ea73f706e",
   "metadata": {},
   "outputs": [
    {
     "name": "stdout",
     "output_type": "stream",
     "text": [
      "42\n"
     ]
    }
   ],
   "source": [
    "n=42\n",
    "print(n)"
   ]
  },
  {
   "cell_type": "code",
   "execution_count": 15,
   "id": "0b26f7c6-1d76-4f98-aa9c-3daf49e82b97",
   "metadata": {},
   "outputs": [
    {
     "ename": "SyntaxError",
     "evalue": "cannot assign to literal here. Maybe you meant '==' instead of '='? (413578810.py, line 1)",
     "output_type": "error",
     "traceback": [
      "\u001b[1;36m  Cell \u001b[1;32mIn[15], line 1\u001b[1;36m\u001b[0m\n\u001b[1;33m    42=n\u001b[0m\n\u001b[1;37m    ^\u001b[0m\n\u001b[1;31mSyntaxError\u001b[0m\u001b[1;31m:\u001b[0m cannot assign to literal here. Maybe you meant '==' instead of '='?\n"
     ]
    }
   ],
   "source": [
    "42=n\n",
    "print(n)"
   ]
  },
  {
   "cell_type": "code",
   "execution_count": 17,
   "id": "c5eb84a5-6fb2-4181-ab58-316177c9b93b",
   "metadata": {},
   "outputs": [
    {
     "name": "stdout",
     "output_type": "stream",
     "text": [
      "1\n",
      "1\n"
     ]
    }
   ],
   "source": [
    "x=y=1\n",
    "print(x)\n",
    "print(y)"
   ]
  },
  {
   "cell_type": "code",
   "execution_count": 19,
   "id": "f1295f5d-8184-41aa-89f1-0c89b4b287e2",
   "metadata": {},
   "outputs": [
    {
     "name": "stdout",
     "output_type": "stream",
     "text": [
      "hello world\n"
     ]
    }
   ],
   "source": [
    "print(\"hello world\");"
   ]
  },
  {
   "cell_type": "code",
   "execution_count": 21,
   "id": "b5ad0c62-6862-43cb-bfe8-74ac68ace710",
   "metadata": {},
   "outputs": [
    {
     "ename": "SyntaxError",
     "evalue": "invalid syntax (2278407640.py, line 1)",
     "output_type": "error",
     "traceback": [
      "\u001b[1;36m  Cell \u001b[1;32mIn[21], line 1\u001b[1;36m\u001b[0m\n\u001b[1;33m    print(\"hello world\").\u001b[0m\n\u001b[1;37m                         ^\u001b[0m\n\u001b[1;31mSyntaxError\u001b[0m\u001b[1;31m:\u001b[0m invalid syntax\n"
     ]
    }
   ],
   "source": [
    "print(\"hello world\")."
   ]
  },
  {
   "cell_type": "code",
   "execution_count": 23,
   "id": "89b9af07-36e4-4fc1-8ee6-5a350a7f0233",
   "metadata": {},
   "outputs": [
    {
     "ename": "NameError",
     "evalue": "name 'xy' is not defined",
     "output_type": "error",
     "traceback": [
      "\u001b[1;31m---------------------------------------------------------------\u001b[0m",
      "\u001b[1;31mNameError\u001b[0m                     Traceback (most recent call last)",
      "Cell \u001b[1;32mIn[23], line 3\u001b[0m\n\u001b[0;32m      1\u001b[0m x\u001b[38;5;241m=\u001b[39m\u001b[38;5;241m1\u001b[39m\n\u001b[0;32m      2\u001b[0m y\u001b[38;5;241m=\u001b[39m\u001b[38;5;241m6\u001b[39m\n\u001b[1;32m----> 3\u001b[0m \u001b[38;5;28mprint\u001b[39m(xy)\n",
      "\u001b[1;31mNameError\u001b[0m: name 'xy' is not defined"
     ]
    }
   ],
   "source": [
    "x=1\n",
    "y=6\n",
    "print(xy)"
   ]
  },
  {
   "cell_type": "code",
   "execution_count": 25,
   "id": "1c9f752d-98cb-4b1b-8d98-f8f75d1d06fa",
   "metadata": {},
   "outputs": [
    {
     "name": "stdout",
     "output_type": "stream",
     "text": [
      "6\n"
     ]
    }
   ],
   "source": [
    "x=1\n",
    "y=6\n",
    "print(x*y)"
   ]
  },
  {
   "cell_type": "code",
   "execution_count": 27,
   "id": "a5f40043-7db9-4ba3-a520-3ceff481f060",
   "metadata": {},
   "outputs": [
    {
     "name": "stdout",
     "output_type": "stream",
     "text": [
      "14.137166941154069\n"
     ]
    }
   ],
   "source": [
    "r=5\n",
    "V=(3/4)*pi*(r^3)\n",
    "print(V)"
   ]
  },
  {
   "cell_type": "code",
   "execution_count": 33,
   "id": "f8d1e055-336e-4a4d-bfb4-cbc161a7e0f1",
   "metadata": {},
   "outputs": [
    {
     "name": "stdout",
     "output_type": "stream",
     "text": [
      "945.4499999999999\n"
     ]
    }
   ],
   "source": [
    "n=60\n",
    "coverprice=24.95*0.6*n\n",
    "transport=3+(n-1)*0.75\n",
    "Cost=coverprice+transport\n",
    "print(Cost)"
   ]
  },
  {
   "cell_type": "code",
   "execution_count": 4,
   "id": "d5e33d76-0d46-47b6-abef-5df424e2649d",
   "metadata": {},
   "outputs": [
    {
     "name": "stdout",
     "output_type": "stream",
     "text": [
      "38.1\n",
      "7.501666666666667\n"
     ]
    }
   ],
   "source": [
    "easypace = 8*60 + 15\n",
    "tempopace = 7*60 + 12\n",
    "totalrun = (2*easypace + 3*tempopace) / 60\n",
    "breakfasttime = (6*60 + 52 + totalrun) / 60\n",
    "print(totalrun)\n",
    "print(breakfasttime)"
   ]
  },
  {
   "cell_type": "code",
   "execution_count": 6,
   "id": "55b7a58a-caae-4475-83c0-4314bedf5a07",
   "metadata": {},
   "outputs": [
    {
     "name": "stdout",
     "output_type": "stream",
     "text": [
      "3\n"
     ]
    }
   ],
   "source": [
    "word = 'banana'\n",
    "count = 0\n",
    "for letter in word:\n",
    "    if letter == 'a':\n",
    "        count = count + 1\n",
    "print(count)"
   ]
  },
  {
   "cell_type": "code",
   "execution_count": 18,
   "id": "49023159-48b6-48aa-a435-f40ee35fcd61",
   "metadata": {},
   "outputs": [
    {
     "data": {
      "text/plain": [
       "'ananab'"
      ]
     },
     "execution_count": 18,
     "metadata": {},
     "output_type": "execute_result"
    }
   ],
   "source": [
    "fruit = 'banana'\n",
    "fruit[0:5:2]\n",
    "fruit[::-1]"
   ]
  },
  {
   "cell_type": "code",
   "execution_count": 20,
   "id": "2b5df799-bdff-45eb-9a0d-f6dedc371fa9",
   "metadata": {},
   "outputs": [
    {
     "data": {
      "text/plain": [
       "'b'"
      ]
     },
     "execution_count": 20,
     "metadata": {},
     "output_type": "execute_result"
    }
   ],
   "source": [
    "fruit = 'banana'\n",
    "fruit[0]"
   ]
  },
  {
   "cell_type": "code",
   "execution_count": 54,
   "id": "f40d01cc-6df6-4745-95a3-275e1d5c1dd8",
   "metadata": {},
   "outputs": [
    {
     "name": "stdout",
     "output_type": "stream",
     "text": [
      "b\n"
     ]
    }
   ],
   "source": [
    "word = 'banana'\n",
    "def first(word):\n",
    "    return word[0]\n",
    "print(first(word))"
   ]
  },
  {
   "cell_type": "code",
   "execution_count": 22,
   "id": "24935b35-62f6-4da3-baa7-70606988c06a",
   "metadata": {},
   "outputs": [
    {
     "data": {
      "text/plain": [
       "'a'"
      ]
     },
     "execution_count": 22,
     "metadata": {},
     "output_type": "execute_result"
    }
   ],
   "source": [
    "fruit = 'banana'\n",
    "fruit[5]"
   ]
  },
  {
   "cell_type": "code",
   "execution_count": 60,
   "id": "158de999-bd01-497e-aff8-77bceba5a229",
   "metadata": {},
   "outputs": [
    {
     "name": "stdout",
     "output_type": "stream",
     "text": [
      "a\n"
     ]
    }
   ],
   "source": [
    "word = 'banana'\n",
    "def last(word):\n",
    "    return word[-1]\n",
    "print(last(word))"
   ]
  },
  {
   "cell_type": "code",
   "execution_count": 44,
   "id": "40d09a0e-b43a-4c75-ae6b-f94018dde825",
   "metadata": {},
   "outputs": [
    {
     "data": {
      "text/plain": [
       "'anan'"
      ]
     },
     "execution_count": 44,
     "metadata": {},
     "output_type": "execute_result"
    }
   ],
   "source": [
    "fruit = 'banana'\n",
    "fruit[1:-1]"
   ]
  },
  {
   "cell_type": "code",
   "execution_count": 58,
   "id": "59146203-63b9-441e-9ef7-f7cb73807d97",
   "metadata": {},
   "outputs": [
    {
     "data": {
      "text/plain": [
       "''"
      ]
     },
     "execution_count": 58,
     "metadata": {},
     "output_type": "execute_result"
    }
   ],
   "source": [
    "fruit = 'banana'\n",
    "fruit[3:-3]"
   ]
  },
  {
   "cell_type": "code",
   "execution_count": 62,
   "id": "78fe27d6-c491-4cc5-bb9f-61ea6736f94d",
   "metadata": {},
   "outputs": [
    {
     "name": "stdout",
     "output_type": "stream",
     "text": [
      "anan\n"
     ]
    }
   ],
   "source": [
    "word = 'banana'\n",
    "def middle(word):\n",
    "    return word[1:-1]\n",
    "print(middle(word))"
   ]
  },
  {
   "cell_type": "code",
   "execution_count": 64,
   "id": "f8399f4f-5abb-4e99-97a8-afa9449c14a6",
   "metadata": {},
   "outputs": [
    {
     "name": "stdout",
     "output_type": "stream",
     "text": [
      "True\n",
      "False\n",
      "True\n",
      "True\n"
     ]
    }
   ],
   "source": [
    "def is_palindrome(word):\n",
    "    \"\"\"Returns True if word is a palindrome.\"\"\"\n",
    "    if len(word) <= 1:\n",
    "        return True\n",
    "    if first(word) != last(word):\n",
    "        return False\n",
    "    return is_palindrome(middle(word))\n",
    "print(is_palindrome(\"madam\"))\n",
    "print(is_palindrome(\"apple\"))\n",
    "print(is_palindrome(\"oppo\"))\n",
    "print(is_palindrome(\"redivider\"))"
   ]
  },
  {
   "cell_type": "code",
   "execution_count": 79,
   "id": "fdb297f3-136e-4506-b174-24252adcb853",
   "metadata": {},
   "outputs": [
    {
     "name": "stdout",
     "output_type": "stream",
     "text": [
      "True\n"
     ]
    }
   ],
   "source": [
    "def is_power(a,b):\n",
    "    if a == b:\n",
    "        return True\n",
    "    if a == 1 or a == 0:\n",
    "        return True\n",
    "    if a % b != 0:\n",
    "        return False\n",
    "    return is_power(a//b,b)\n",
    "print(is_power(64, 2))   "
   ]
  },
  {
   "cell_type": "code",
   "execution_count": 85,
   "id": "5746e785-628b-46f2-877f-67a32008bf30",
   "metadata": {},
   "outputs": [
    {
     "name": "stdout",
     "output_type": "stream",
     "text": [
      "8\n"
     ]
    }
   ],
   "source": [
    "def gcd(a,b):\n",
    "    if b == 0:\n",
    "        return a\n",
    "    return gcd(b,a%b)\n",
    "print(gcd(64,8))"
   ]
  }
 ],
 "metadata": {
  "kernelspec": {
   "display_name": "Python [conda env:base] *",
   "language": "python",
   "name": "conda-base-py"
  },
  "language_info": {
   "codemirror_mode": {
    "name": "ipython",
    "version": 3
   },
   "file_extension": ".py",
   "mimetype": "text/x-python",
   "name": "python",
   "nbconvert_exporter": "python",
   "pygments_lexer": "ipython3",
   "version": "3.12.7"
  }
 },
 "nbformat": 4,
 "nbformat_minor": 5
}
